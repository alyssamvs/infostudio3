{
 "cells": [
  {
   "cell_type": "code",
   "execution_count": 9,
   "metadata": {},
   "outputs": [],
   "source": [
    "import pandas as pd\n",
    "import matplotlib.pyplot as plt\n",
    "import numpy as np"
   ]
  },
  {
   "cell_type": "code",
   "execution_count": 10,
   "metadata": {},
   "outputs": [],
   "source": [
    "df = pd.read_csv('./Accelerationism Events Data Set_AC - ALL CASES (265).csv')"
   ]
  },
  {
   "cell_type": "code",
   "execution_count": 11,
   "metadata": {},
   "outputs": [
    {
     "data": {
      "text/plain": [
       "Index(['Date', 'Date descriptor', 'Case ID', 'Group identifier',\n",
       "       'Full legal name', 'First name', 'Family name', 'Other names/aliases',\n",
       "       'Co-offender', 'Reason for inclusion', 'Name of case', 'Jurisdiction',\n",
       "       'Location: country', 'Location: state', 'Location: city',\n",
       "       'People vs. property', 'Physical target', 'Ideological target',\n",
       "       'Ideological affiliation', 'Affiliation with FTO', 'Group affiliation',\n",
       "       'Hate crime', 'LEO informant', 'Previous similar method',\n",
       "       'Criminal method', 'Additional criminal method', 'Completion of crime',\n",
       "       '# killed', '# injured', 'Charges', 'Plea', 'Verdict',\n",
       "       'Length of prison sentence (months)', 'Life sentence', 'Death sentence',\n",
       "       'Additional details', 'Age', 'Gender', 'Other status',\n",
       "       'Racial/ethnic group', 'Religion', 'Veteran status', 'Combat veteran',\n",
       "       'Service classification', 'Citizenship status', 'Short narrative',\n",
       "       'Source description', 'Audited', 'Date of last review',\n",
       "       'Case starter ready', 'Claimed', 'Complete', 'Questionable inclusion',\n",
       "       'Tags'],\n",
       "      dtype='object')"
      ]
     },
     "execution_count": 11,
     "metadata": {},
     "output_type": "execute_result"
    }
   ],
   "source": [
    "df.columns"
   ]
  },
  {
   "cell_type": "code",
   "execution_count": 37,
   "metadata": {},
   "outputs": [],
   "source": [
    "#df_subset = pd.read_csv('./Accelerationism Events Data Set_AC - ALL CASES (265).csv')[[\"Gender\"]]"
   ]
  },
  {
   "cell_type": "code",
   "execution_count": 38,
   "metadata": {},
   "outputs": [
    {
     "data": {
      "text/html": [
       "<div>\n",
       "<style scoped>\n",
       "    .dataframe tbody tr th:only-of-type {\n",
       "        vertical-align: middle;\n",
       "    }\n",
       "\n",
       "    .dataframe tbody tr th {\n",
       "        vertical-align: top;\n",
       "    }\n",
       "\n",
       "    .dataframe thead th {\n",
       "        text-align: right;\n",
       "    }\n",
       "</style>\n",
       "<table border=\"1\" class=\"dataframe\">\n",
       "  <thead>\n",
       "    <tr style=\"text-align: right;\">\n",
       "      <th></th>\n",
       "      <th>Date</th>\n",
       "      <th>Date descriptor</th>\n",
       "      <th>Case ID</th>\n",
       "      <th>Group identifier</th>\n",
       "      <th>Full legal name</th>\n",
       "      <th>First name</th>\n",
       "      <th>Family name</th>\n",
       "      <th>Other names/aliases</th>\n",
       "      <th>Co-offender</th>\n",
       "      <th>Reason for inclusion</th>\n",
       "      <th>...</th>\n",
       "      <th>Citizenship status</th>\n",
       "      <th>Short narrative</th>\n",
       "      <th>Source description</th>\n",
       "      <th>Audited</th>\n",
       "      <th>Date of last review</th>\n",
       "      <th>Case starter ready</th>\n",
       "      <th>Claimed</th>\n",
       "      <th>Complete</th>\n",
       "      <th>Questionable inclusion</th>\n",
       "      <th>Tags</th>\n",
       "    </tr>\n",
       "  </thead>\n",
       "  <tbody>\n",
       "    <tr>\n",
       "      <th>0</th>\n",
       "      <td>04/19/1995</td>\n",
       "      <td>Crime/attack</td>\n",
       "      <td>04191995_TJM_MCVEIGH1</td>\n",
       "      <td>MCVEIGH1</td>\n",
       "      <td>Timothy James McVeigh</td>\n",
       "      <td>Timothy James</td>\n",
       "      <td>McVeigh</td>\n",
       "      <td>NaN</td>\n",
       "      <td>Yes</td>\n",
       "      <td>Obvious socio-political aim AND State speech act</td>\n",
       "      <td>...</td>\n",
       "      <td>U.S. citizen</td>\n",
       "      <td>(army) Timothy McVeigh set off a fertilizer tr...</td>\n",
       "      <td>Court document and https://www.fbi.gov/history...</td>\n",
       "      <td>False</td>\n",
       "      <td>4/18/2022</td>\n",
       "      <td>True</td>\n",
       "      <td>True</td>\n",
       "      <td>True</td>\n",
       "      <td>False</td>\n",
       "      <td>Accelerationism</td>\n",
       "    </tr>\n",
       "    <tr>\n",
       "      <th>1</th>\n",
       "      <td>01/09/1997</td>\n",
       "      <td>Indictment</td>\n",
       "      <td>01091997_CEH_VIEFHAUS2</td>\n",
       "      <td>VIEFHAUS2</td>\n",
       "      <td>Carol E. Howe</td>\n",
       "      <td>Carol E.</td>\n",
       "      <td>Howe</td>\n",
       "      <td>Freya</td>\n",
       "      <td>Yes</td>\n",
       "      <td>Obvious socio-political aim</td>\n",
       "      <td>...</td>\n",
       "      <td>U.S. citizen</td>\n",
       "      <td>In October 1997, in Tulsa, Oklahoma, white sup...</td>\n",
       "      <td>court documents, local news articles</td>\n",
       "      <td>True</td>\n",
       "      <td>5/24/2021</td>\n",
       "      <td>True</td>\n",
       "      <td>True</td>\n",
       "      <td>True</td>\n",
       "      <td>False</td>\n",
       "      <td>Accelerationism</td>\n",
       "    </tr>\n",
       "    <tr>\n",
       "      <th>2</th>\n",
       "      <td>04/23/1997</td>\n",
       "      <td>Arrest/arraignment</td>\n",
       "      <td>04231997_TV</td>\n",
       "      <td>No group</td>\n",
       "      <td>Todd Vanbiber</td>\n",
       "      <td>Todd</td>\n",
       "      <td>Vanbiber</td>\n",
       "      <td>NaN</td>\n",
       "      <td>No</td>\n",
       "      <td>Obvious socio-political aim</td>\n",
       "      <td>...</td>\n",
       "      <td>U.S. citizen</td>\n",
       "      <td>In 1997, in Orlando Florida, Todd Vanbiber, ag...</td>\n",
       "      <td>News articles, Databases</td>\n",
       "      <td>True</td>\n",
       "      <td>06/27/2021</td>\n",
       "      <td>True</td>\n",
       "      <td>True</td>\n",
       "      <td>True</td>\n",
       "      <td>False</td>\n",
       "      <td>Accelerationism</td>\n",
       "    </tr>\n",
       "    <tr>\n",
       "      <th>3</th>\n",
       "      <td>07/25/1997</td>\n",
       "      <td>Sentencing</td>\n",
       "      <td>07251997_JDVJ_VIEFHAUS1</td>\n",
       "      <td>VIEFHAUS1</td>\n",
       "      <td>James Dodson Viefhaus Jr.</td>\n",
       "      <td>James Dodson Jr.</td>\n",
       "      <td>Viefhaus</td>\n",
       "      <td>Thorsson, James D. Viefhaus</td>\n",
       "      <td>Yes</td>\n",
       "      <td>Obvious socio-political aim</td>\n",
       "      <td>...</td>\n",
       "      <td>U.S. citizen</td>\n",
       "      <td>In October 1997, in Tulsa, Oklahoma, white sup...</td>\n",
       "      <td>court documents, local news articles</td>\n",
       "      <td>True</td>\n",
       "      <td>5/24/2021</td>\n",
       "      <td>True</td>\n",
       "      <td>True</td>\n",
       "      <td>True</td>\n",
       "      <td>False</td>\n",
       "      <td>Accelerationism</td>\n",
       "    </tr>\n",
       "    <tr>\n",
       "      <th>4</th>\n",
       "      <td>12/03/1999</td>\n",
       "      <td>Arrest/arraignment</td>\n",
       "      <td>12031999_KRP_RUDOLPH3</td>\n",
       "      <td>RUDOLPH3</td>\n",
       "      <td>Kevin Ray Patterson</td>\n",
       "      <td>Kevin Ray</td>\n",
       "      <td>Patterson</td>\n",
       "      <td>NaN</td>\n",
       "      <td>Yes</td>\n",
       "      <td>Obvious socio-political aim AND Supports organ...</td>\n",
       "      <td>...</td>\n",
       "      <td>U.S. citizen</td>\n",
       "      <td>In 1999 in Elkgrove, CA, Kiles, 49, and Patter...</td>\n",
       "      <td>FBI 1999, FBI History, news document</td>\n",
       "      <td>False</td>\n",
       "      <td>NaN</td>\n",
       "      <td>True</td>\n",
       "      <td>True</td>\n",
       "      <td>True</td>\n",
       "      <td>False</td>\n",
       "      <td>Accelerationism</td>\n",
       "    </tr>\n",
       "  </tbody>\n",
       "</table>\n",
       "<p>5 rows × 54 columns</p>\n",
       "</div>"
      ],
      "text/plain": [
       "         Date     Date descriptor                  Case ID Group identifier  \\\n",
       "0  04/19/1995        Crime/attack    04191995_TJM_MCVEIGH1         MCVEIGH1   \n",
       "1  01/09/1997          Indictment   01091997_CEH_VIEFHAUS2        VIEFHAUS2   \n",
       "2  04/23/1997  Arrest/arraignment              04231997_TV         No group   \n",
       "3  07/25/1997          Sentencing  07251997_JDVJ_VIEFHAUS1        VIEFHAUS1   \n",
       "4  12/03/1999  Arrest/arraignment    12031999_KRP_RUDOLPH3         RUDOLPH3   \n",
       "\n",
       "             Full legal name        First name Family name  \\\n",
       "0      Timothy James McVeigh     Timothy James     McVeigh   \n",
       "1              Carol E. Howe          Carol E.        Howe   \n",
       "2              Todd Vanbiber              Todd    Vanbiber   \n",
       "3  James Dodson Viefhaus Jr.  James Dodson Jr.    Viefhaus   \n",
       "4        Kevin Ray Patterson         Kevin Ray   Patterson   \n",
       "\n",
       "           Other names/aliases Co-offender  \\\n",
       "0                          NaN         Yes   \n",
       "1                        Freya         Yes   \n",
       "2                          NaN          No   \n",
       "3  Thorsson, James D. Viefhaus         Yes   \n",
       "4                          NaN         Yes   \n",
       "\n",
       "                                Reason for inclusion  ... Citizenship status  \\\n",
       "0   Obvious socio-political aim AND State speech act  ...       U.S. citizen   \n",
       "1                        Obvious socio-political aim  ...       U.S. citizen   \n",
       "2                        Obvious socio-political aim  ...       U.S. citizen   \n",
       "3                        Obvious socio-political aim  ...       U.S. citizen   \n",
       "4  Obvious socio-political aim AND Supports organ...  ...       U.S. citizen   \n",
       "\n",
       "                                     Short narrative  \\\n",
       "0  (army) Timothy McVeigh set off a fertilizer tr...   \n",
       "1  In October 1997, in Tulsa, Oklahoma, white sup...   \n",
       "2  In 1997, in Orlando Florida, Todd Vanbiber, ag...   \n",
       "3  In October 1997, in Tulsa, Oklahoma, white sup...   \n",
       "4  In 1999 in Elkgrove, CA, Kiles, 49, and Patter...   \n",
       "\n",
       "                                  Source description Audited  \\\n",
       "0  Court document and https://www.fbi.gov/history...   False   \n",
       "1               court documents, local news articles    True   \n",
       "2                           News articles, Databases    True   \n",
       "3               court documents, local news articles    True   \n",
       "4               FBI 1999, FBI History, news document   False   \n",
       "\n",
       "  Date of last review Case starter ready Claimed Complete  \\\n",
       "0           4/18/2022               True    True     True   \n",
       "1           5/24/2021               True    True     True   \n",
       "2          06/27/2021               True    True     True   \n",
       "3           5/24/2021               True    True     True   \n",
       "4                 NaN               True    True     True   \n",
       "\n",
       "  Questionable inclusion             Tags  \n",
       "0                  False  Accelerationism  \n",
       "1                  False  Accelerationism  \n",
       "2                  False  Accelerationism  \n",
       "3                  False  Accelerationism  \n",
       "4                  False  Accelerationism  \n",
       "\n",
       "[5 rows x 54 columns]"
      ]
     },
     "execution_count": 38,
     "metadata": {},
     "output_type": "execute_result"
    }
   ],
   "source": [
    "df.head(5)"
   ]
  },
  {
   "cell_type": "code",
   "execution_count": 39,
   "metadata": {},
   "outputs": [],
   "source": [
    "bygender = df.groupby(by='Gender')"
   ]
  },
  {
   "cell_type": "code",
   "execution_count": null,
   "metadata": {},
   "outputs": [],
   "source": [
    "print(list(bygender))\n"
   ]
  },
  {
   "cell_type": "code",
   "execution_count": 42,
   "metadata": {},
   "outputs": [
    {
     "name": "stdout",
     "output_type": "stream",
     "text": [
      "7\n",
      "257\n",
      "1\n"
     ]
    }
   ],
   "source": [
    "for group in bygender :\n",
    "    print(len(group[1]))"
   ]
  },
  {
   "cell_type": "code",
   "execution_count": 43,
   "metadata": {},
   "outputs": [
    {
     "name": "stdout",
     "output_type": "stream",
     "text": [
      "['Female', 'Male', 'Unknown/unclear']\n",
      "[7, 257, 1]\n"
     ]
    }
   ],
   "source": [
    "gender_count = []\n",
    "names = []\n",
    "for group in bygender :\n",
    "    gender_count.append(len(group[1]))\n",
    "    names.append(group[0])\n",
    "print(names)\n",
    "\n",
    "print(gender_count)\n"
   ]
  },
  {
   "cell_type": "code",
   "execution_count": null,
   "metadata": {},
   "outputs": [],
   "source": [
    "plt.plot(gender_count)\n",
    "plt.show()"
   ]
  },
  {
   "cell_type": "code",
   "execution_count": 45,
   "metadata": {},
   "outputs": [
    {
     "data": {
      "text/plain": [
       "Text(0.5, 1.0, 'by gender')"
      ]
     },
     "execution_count": 45,
     "metadata": {},
     "output_type": "execute_result"
    },
    {
     "data": {
      "image/png": "[encoded data removed]",
      "text/plain": [
       "<Figure size 640x480 with 1 Axes>"
      ]
     },
     "metadata": {},
     "output_type": "display_data"
    }
   ],
   "source": [
    "plt.bar([0,1,2],gender_count)\n",
    "plt.xticks([0,1,2], names)\n",
    "plt.ylabel('quantity')\n",
    "plt.title('by gender')\n"
   ]
  },
  {
   "cell_type": "code",
   "execution_count": 66,
   "metadata": {},
   "outputs": [],
   "source": [
    "df_subset = pd.read_csv('./Accelerationism Events Data Set_AC - ALL CASES (265).csv')[[\"Date\",\"# killed\",\"# injured\"]]\n",
    "byDate = df_subset.groupby(by='Date').sum()"
   ]
  },
  {
   "cell_type": "code",
   "execution_count": 80,
   "metadata": {},
   "outputs": [],
   "source": [
    "date_time = \"02/10/2011\"\n",
    "date_time = pd.to_datetime(date_time)\n",
    "data = df_subset\n"
   ]
  },
  {
   "cell_type": "code",
   "execution_count": null,
   "metadata": {},
   "outputs": [],
   "source": []
  },
  {
   "cell_type": "code",
   "execution_count": 81,
   "metadata": {},
   "outputs": [
    {
     "data": {
      "text/plain": [
       "Timestamp('2011-02-10 00:00:00')"
      ]
     },
     "execution_count": 81,
     "metadata": {},
     "output_type": "execute_result"
    }
   ],
   "source": [
    "date_time"
   ]
  },
  {
   "cell_type": "code",
   "execution_count": 61,
   "metadata": {},
   "outputs": [],
   "source": [
    "import matplotlib.dates as mdates\n",
    "import datetime as dt"
   ]
  },
  {
   "cell_type": "code",
   "execution_count": null,
   "metadata": {},
   "outputs": [],
   "source": []
  },
  {
   "cell_type": "code",
   "execution_count": null,
   "metadata": {},
   "outputs": [],
   "source": [
    "kill_count = []\n",
    "labels = []\n",
    "for group in byDate :\n",
    "    kill_count.append(len(group[1]))\n",
    "    labels.append(group[0])\n",
    "print(labels)\n",
    "\n",
    "print(kill_count)"
   ]
  }
 ],
 "metadata": {
  "kernelspec": {
   "display_name": "Python 3",
   "language": "python",
   "name": "python3"
  },
  "language_info": {
   "codemirror_mode": {
    "name": "ipython",
    "version": 3
   },
   "file_extension": ".py",
   "mimetype": "text/x-python",
   "name": "python",
   "nbconvert_exporter": "python",
   "pygments_lexer": "ipython3",
   "version": "3.9.6"
  }
 },
 "nbformat": 4,
 "nbformat_minor": 2
}
